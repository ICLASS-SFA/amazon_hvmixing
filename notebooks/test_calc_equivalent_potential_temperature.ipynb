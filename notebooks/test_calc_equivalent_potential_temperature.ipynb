{
 "cells": [
  {
   "cell_type": "code",
   "execution_count": 1,
   "id": "3d99ed18-42fb-4729-be2c-131e04f93ed9",
   "metadata": {
    "tags": []
   },
   "outputs": [],
   "source": [
    "import numpy as np\n",
    "import xarray as xr\n",
    "import metpy.calc as mpcalc\n",
    "from metpy.units import units"
   ]
  },
  {
   "cell_type": "code",
   "execution_count": 2,
   "id": "934823ad-3eef-4d22-90d5-245a39b59270",
   "metadata": {
    "tags": []
   },
   "outputs": [
    {
     "name": "stdout",
     "output_type": "stream",
     "text": [
      "0.6225596529284165\n"
     ]
    }
   ],
   "source": [
    "Lv = 2.501*1e6   # [J kg-1] latent heat of vaporization\n",
    "Rd = 287   # [J K-1 kg-1] gas constant for dry air\n",
    "Rv = 461   # [J K-1 kg-1] gas constant for water vapor\n",
    "Cp = 1005.7   # [J kg-1 K-1] specific heat capacity for dry ai\n",
    "\n",
    "Epsilon = Rd / Rv\n",
    "print(Epsilon)"
   ]
  },
  {
   "cell_type": "code",
   "execution_count": 3,
   "id": "9a2dd37d-812a-4a16-b988-1118723f7ec3",
   "metadata": {
    "tags": []
   },
   "outputs": [],
   "source": [
    "T = 20.0\n",
    "P = 950.0\n",
    "Qv = 0.010\n",
    "\n",
    "TK = T + 273.15"
   ]
  },
  {
   "cell_type": "code",
   "execution_count": 22,
   "id": "e54bdf22-c366-4046-b225-bfb75cd62d9f",
   "metadata": {
    "tags": []
   },
   "outputs": [
    {
     "data": {
      "text/plain": [
       "15.01834642159048"
      ]
     },
     "execution_count": 22,
     "metadata": {},
     "output_type": "execute_result"
    }
   ],
   "source": [
    "# Vapor pressure [hPa]\n",
    "Ep = P * Qv / (Epsilon + Qv)\n",
    "Ep"
   ]
  },
  {
   "cell_type": "code",
   "execution_count": 31,
   "id": "76f4bb4f-ddb4-4343-8850-d34869ea3c90",
   "metadata": {
    "tags": []
   },
   "outputs": [
    {
     "data": {
      "text/html": [
       "15.032670501431127 hectopascal"
      ],
      "text/latex": [
       "$15.032670501431127\\ \\mathrm{hectopascal}$"
      ],
      "text/plain": [
       "15.032670501431127 <Unit('hectopascal')>"
      ]
     },
     "execution_count": 31,
     "metadata": {},
     "output_type": "execute_result"
    }
   ],
   "source": [
    "Ep_mp = mpcalc.vapor_pressure(P * units('hPa'), Qv)\n",
    "Ep_mp"
   ]
  },
  {
   "cell_type": "code",
   "execution_count": 4,
   "id": "61b28957-83f4-469b-addb-958c01fe8b28",
   "metadata": {
    "tags": []
   },
   "outputs": [
    {
     "data": {
      "text/plain": [
       "23.36947123406443"
      ]
     },
     "execution_count": 4,
     "metadata": {},
     "output_type": "execute_result"
    }
   ],
   "source": [
    "# Saturation vapor pressure [hPa]\n",
    "Es = 6.112 * np.exp(17.67 * T / (T + 243.5))\n",
    "Es"
   ]
  },
  {
   "cell_type": "code",
   "execution_count": 5,
   "id": "4c3ad88d-50e7-41cc-9c20-f872dff4eada",
   "metadata": {
    "tags": []
   },
   "outputs": [
    {
     "data": {
      "text/html": [
       "23.36947123406443 hectopascal"
      ],
      "text/latex": [
       "$23.36947123406443\\ \\mathrm{hectopascal}$"
      ],
      "text/plain": [
       "23.36947123406443 <Unit('hectopascal')>"
      ]
     },
     "execution_count": 5,
     "metadata": {},
     "output_type": "execute_result"
    }
   ],
   "source": [
    "mpcalc.saturation_vapor_pressure(T * units('degC')).to(units('hPa'))"
   ]
  },
  {
   "cell_type": "code",
   "execution_count": 6,
   "id": "d71b5f3b-adb4-435a-b355-0016dbe81831",
   "metadata": {
    "tags": []
   },
   "outputs": [
    {
     "data": {
      "text/plain": [
       "0.01570085319763383"
      ]
     },
     "execution_count": 6,
     "metadata": {},
     "output_type": "execute_result"
    }
   ],
   "source": [
    "# Saturation mixing ratio [kg/kg]\n",
    "Qv_sat = Epsilon * Es / (P - Es)\n",
    "Qv_sat"
   ]
  },
  {
   "cell_type": "code",
   "execution_count": 19,
   "id": "c4d76d3c-ef6b-4e0b-8300-e95f269edd39",
   "metadata": {
    "tags": []
   },
   "outputs": [
    {
     "data": {
      "text/plain": [
       "63.69080631558948"
      ]
     },
     "execution_count": 19,
     "metadata": {},
     "output_type": "execute_result"
    }
   ],
   "source": [
    "# RH = 100 * Ep / Es\n",
    "RH = 100 * Qv / Qv_sat\n",
    "RH"
   ]
  },
  {
   "cell_type": "code",
   "execution_count": 8,
   "id": "1d2d1316-ada9-489a-80eb-ea23d06cd7c5",
   "metadata": {
    "tags": []
   },
   "outputs": [
    {
     "data": {
      "text/html": [
       "63.7525295295548 percent"
      ],
      "text/latex": [
       "$63.7525295295548\\ \\mathrm{percent}$"
      ],
      "text/plain": [
       "63.7525295295548 <Unit('percent')>"
      ]
     },
     "execution_count": 8,
     "metadata": {},
     "output_type": "execute_result"
    }
   ],
   "source": [
    "RH_mp = mpcalc.relative_humidity_from_mixing_ratio(P * units.hPa, T * units.degC, Qv).to('percent')\n",
    "RH_mp"
   ]
  },
  {
   "cell_type": "code",
   "execution_count": 75,
   "id": "d5487f8b-ee65-4968-bcfb-1c99d6397629",
   "metadata": {
    "tags": []
   },
   "outputs": [
    {
     "name": "stdout",
     "output_type": "stream",
     "text": [
      "297.47261305177165\n"
     ]
    }
   ],
   "source": [
    "# Potential temperature\n",
    "Theta = TK * (1000. / P) ** (Rd/Cp)\n",
    "# Theta = TK * (1000. / (P-Ep)) ** (Rd/Cp)\n",
    "print(Theta)"
   ]
  },
  {
   "cell_type": "code",
   "execution_count": 78,
   "id": "4e4c1b7d-1a8c-4406-a07e-b44a30e8b7ca",
   "metadata": {
    "tags": []
   },
   "outputs": [],
   "source": [
    "# mpcalc.potential_temperature(P * units('hPa'), T * units('degC'))\n",
    "# P - Ep\n",
    "# mpcalc.potential_temperature((P - Ep) * units('hPa'), T * units('degC'))"
   ]
  },
  {
   "cell_type": "code",
   "execution_count": 79,
   "id": "c329bba2-b5c2-4e6f-bc94-93acb33af8bd",
   "metadata": {
    "tags": []
   },
   "outputs": [
    {
     "data": {
      "text/html": [
       "297.4778148814758 kelvin"
      ],
      "text/latex": [
       "$297.4778148814758\\ \\mathrm{kelvin}$"
      ],
      "text/plain": [
       "297.4778148814758 <Unit('kelvin')>"
      ]
     },
     "execution_count": 79,
     "metadata": {},
     "output_type": "execute_result"
    }
   ],
   "source": [
    "Theta_mp = mpcalc.potential_temperature(P * units('hPa'), T * units('degC'))\n",
    "Theta_mp"
   ]
  },
  {
   "cell_type": "code",
   "execution_count": 38,
   "id": "570a1007-8875-486b-91e1-bda01c7b0d5c",
   "metadata": {
    "tags": []
   },
   "outputs": [
    {
     "data": {
      "text/plain": [
       "13.0529631726017"
      ]
     },
     "execution_count": 38,
     "metadata": {},
     "output_type": "execute_result"
    }
   ],
   "source": [
    "# Dew point temperature [C]\n",
    "TD = 243.5 * np.log(Ep / 6.112) / (17.67 - np.log(Ep / 6.112))\n",
    "# TD = 243.5 * np.log(Ep / 6.1121) / (18.678 - np.log(Ep / 6.1121))\n",
    "TD"
   ]
  },
  {
   "cell_type": "code",
   "execution_count": 32,
   "id": "bc513c2d-22ab-4f8e-a6ab-2fdb43a8d787",
   "metadata": {
    "tags": []
   },
   "outputs": [
    {
     "data": {
      "text/html": [
       "12.930590862932661 degree_Celsius"
      ],
      "text/latex": [
       "$12.930590862932661\\ \\mathrm{degree\\_Celsius}$"
      ],
      "text/plain": [
       "12.930590862932661 <Unit('degree_Celsius')>"
      ]
     },
     "execution_count": 32,
     "metadata": {},
     "output_type": "execute_result"
    }
   ],
   "source": [
    "TD_mp = mpcalc.dewpoint_from_relative_humidity(T * units('degC'), RH_mp)\n",
    "TD_mp"
   ]
  },
  {
   "cell_type": "code",
   "execution_count": 80,
   "id": "3f7875f3-7fc5-44e1-b791-bb66c8904b22",
   "metadata": {
    "tags": []
   },
   "outputs": [
    {
     "data": {
      "text/html": [
       "53.35565601467147 degree_Celsius"
      ],
      "text/latex": [
       "$53.35565601467147\\ \\mathrm{degree\\_Celsius}$"
      ],
      "text/plain": [
       "53.35565601467147 <Unit('degree_Celsius')>"
      ]
     },
     "execution_count": 80,
     "metadata": {},
     "output_type": "execute_result"
    }
   ],
   "source": [
    "mpcalc.equivalent_potential_temperature(P * units('hPa'), T * units('degC'), TD_mp).to('degC')"
   ]
  },
  {
   "cell_type": "code",
   "execution_count": 82,
   "id": "b1516be9-0c54-441b-9842-4c44eccb609b",
   "metadata": {
    "tags": []
   },
   "outputs": [
    {
     "data": {
      "text/plain": [
       "12.04607573459586"
      ]
     },
     "execution_count": 82,
     "metadata": {},
     "output_type": "execute_result"
    }
   ],
   "source": [
    "# Temperature at lifting condensation level (Eq. 15 in Bolton 1980)\n",
    "# TL = 1 / (1/(TD - 56) + np.log(T/TD)/800) + 56\n",
    "TL = 56 + 1. / (1. / (TD - 56) + np.log(T / TD) / 800.)\n",
    "TL"
   ]
  },
  {
   "cell_type": "code",
   "execution_count": 84,
   "id": "50ab1a3f-b8e2-4def-9588-cf851f86b8a5",
   "metadata": {
    "tags": []
   },
   "outputs": [
    {
     "data": {
      "text/plain": [
       "53.53515390033442"
      ]
     },
     "execution_count": 84,
     "metadata": {},
     "output_type": "execute_result"
    }
   ],
   "source": [
    "# Dry potential temperature at LCL [K]\n",
    "# Note the first term is different from Theta calculation, vapor pressure is subtracted from total pressure\n",
    "ThetaL = TK * (1000. / (P - Ep))**(Rd/Cp) * (TK / (TL+273.15)) ** (0.28 * Qv)\n",
    "\n",
    "ThetaE = ThetaL * np.exp(Qv * (1 + 0.448 * Qv) * (3036. / (TL+273.15) - 1.78))\n",
    "ThetaE-273.15"
   ]
  },
  {
   "cell_type": "code",
   "execution_count": 90,
   "id": "d27f634e-95fe-4103-bd15-3150261b8108",
   "metadata": {
    "tags": []
   },
   "outputs": [
    {
     "name": "stdout",
     "output_type": "stream",
     "text": [
      "44.551328591129504\n"
     ]
    }
   ],
   "source": [
    "# AMS Glossary\n",
    "# https://glossary.ametsoc.org/wiki/Equivalent_potential_temperature\n",
    "# ThetaE = Theta * RH ** (-Qv * Rv / Cp) * np.exp(Lv * Qv / (Cp * TK))\n",
    "ThetaE = TK * (1000 / P)**(Rd/Cp) * RH**(-Qv * Rv / Cp) * np.exp(Lv * Qv / (Cp * TK))\n",
    "print(ThetaE - 273.15)"
   ]
  },
  {
   "cell_type": "code",
   "execution_count": 95,
   "id": "e3bf7a1a-e186-465d-9810-20d24630d902",
   "metadata": {
    "tags": []
   },
   "outputs": [
    {
     "data": {
      "text/plain": [
       "49.55755624780335"
      ]
     },
     "execution_count": 95,
     "metadata": {},
     "output_type": "execute_result"
    }
   ],
   "source": [
    "# Simplified formula by Stull (1988) \n",
    "# https://en.wikipedia.org/wiki/Equivalent_potential_temperature\n",
    "(TK + Qv * Lv / Cp) * (1000 / P)**(Rd/Cp) - 273.15"
   ]
  },
  {
   "cell_type": "code",
   "execution_count": 96,
   "id": "a4cf8f26-dfea-4344-80c2-4888b668a2e1",
   "metadata": {
    "tags": []
   },
   "outputs": [],
   "source": [
    "# ThetaE = TK * (1000 / P)**(0.2854 * (1 - 0.28 * Qv)) * np.exp((3.376 / TL - 0.00254) * Qv * (1 + 0.81 * Qv))\n",
    "# ThetaE - 273.15"
   ]
  },
  {
   "cell_type": "code",
   "execution_count": 97,
   "id": "2489e486-712c-4479-b1da-0077621d1e8d",
   "metadata": {
    "tags": []
   },
   "outputs": [
    {
     "data": {
      "text/plain": [
       "0.28537337178084915"
      ]
     },
     "execution_count": 97,
     "metadata": {},
     "output_type": "execute_result"
    }
   ],
   "source": [
    "Rd/Cp"
   ]
  },
  {
   "cell_type": "code",
   "execution_count": 99,
   "id": "caf08c3f-9a65-4ce5-92e0-349689fcd111",
   "metadata": {},
   "outputs": [],
   "source": [
    "def theta_e(T, P, Qv):\n",
    "    \"\"\"\n",
    "    Calculate equivalent potential temperature.\n",
    "\n",
    "    Args:\n",
    "        T: array-like\n",
    "            Dry air temperature [degree Celsius]\n",
    "        P: array-like\n",
    "            Total air pressure [hPa]\n",
    "        Qv: array-like\n",
    "            Vapor mixing ratio [kg/kg]\n",
    "    Returns:\n",
    "        ThetaE: array-like\n",
    "            Equivalent potential temperature [K]\n",
    "    \"\"\"\n",
    "    # Constants\n",
    "    Lv = 2.501*1e6   # [J kg-1] latent heat of vaporization\n",
    "    R_dry = 287   # [J K-1 kg-1] gas constant for dry air\n",
    "    R_v = 461   # [J K-1 kg-1] gas constant for water vapor\n",
    "    Cp_dry = 1005.7   # [J kg-1 K-1] specific heat capacity for dry air\n",
    "    Epsilon = R_dry / R_v\n",
    "    \n",
    "    # Temperature [K]\n",
    "    TK = T + 273.15\n",
    "\n",
    "    # Vapor pressure [hPa]\n",
    "    Ep = P * Qv / (Epsilon + Qv)\n",
    "\n",
    "    # Dew point temperature [C]\n",
    "    TD = 243.5 * np.log(Ep / 6.112) / (17.67 - np.log(Ep / 6.112))\n",
    "\n",
    "    # Temperature at lifting condensation level (Eq. 15 in Bolton 1980)\n",
    "    TL = 56 + 1. / (1. / (TD - 56) + np.log(T / TD) / 800.)\n",
    "\n",
    "    # Dry potential temperature at LCL [K] (Eq. 24 in Bolton 1980)\n",
    "    ThetaL = TK * (1000. / (P - Ep))**(R_dry/Cp_dry) * (TK / (TL+273.15)) ** (0.28 * Qv)\n",
    "\n",
    "    # Equivalent potential temperature (Eq. 39 in Bolton 1980)\n",
    "    ThetaE = ThetaL * np.exp(Qv * (1 + 0.448 * Qv) * (3036. / (TL+273.15) - 1.78))\n",
    "    \n",
    "    return ThetaE"
   ]
  },
  {
   "cell_type": "code",
   "execution_count": 101,
   "id": "7911fe0b-0a34-4d59-bd81-1cb984173871",
   "metadata": {
    "tags": []
   },
   "outputs": [
    {
     "data": {
      "text/plain": [
       "53.53515390033442"
      ]
     },
     "execution_count": 101,
     "metadata": {},
     "output_type": "execute_result"
    }
   ],
   "source": [
    "theta_e(T, P, Qv) - 273.15"
   ]
  },
  {
   "cell_type": "code",
   "execution_count": 106,
   "id": "c98550d1-612e-42af-90ed-ae1bfbe8b1e2",
   "metadata": {
    "tags": []
   },
   "outputs": [
    {
     "data": {
      "text/html": [
       "53.61374726282281 degree_Celsius"
      ],
      "text/latex": [
       "$53.61374726282281\\ \\mathrm{degree\\_Celsius}$"
      ],
      "text/plain": [
       "53.61374726282281 <Unit('degree_Celsius')>"
      ]
     },
     "execution_count": 106,
     "metadata": {},
     "output_type": "execute_result"
    }
   ],
   "source": [
    "# RH_mp = mpcalc.relative_humidity_from_mixing_ratio(P * units.hPa, T * units.degC, Qv).to('percent')\n",
    "\n",
    "# TD_mp = mpcalc.dewpoint_from_relative_humidity(T * units('degC'), RH_mp)\n",
    "\n",
    "Ep_mp = mpcalc.vapor_pressure(P * units('hPa'), Qv)\n",
    "\n",
    "TD_mp = mpcalc.dewpoint(Ep_mp)\n",
    "\n",
    "mpcalc.equivalent_potential_temperature(P * units('hPa'), T * units('degC'), TD_mp).to('degC')"
   ]
  },
  {
   "cell_type": "code",
   "execution_count": null,
   "id": "111fce01-29b8-47f8-bf5e-d845f1eb8fd1",
   "metadata": {},
   "outputs": [],
   "source": []
  }
 ],
 "metadata": {
  "kernelspec": {
   "display_name": "py310",
   "language": "python",
   "name": "py310"
  },
  "language_info": {
   "codemirror_mode": {
    "name": "ipython",
    "version": 3
   },
   "file_extension": ".py",
   "mimetype": "text/x-python",
   "name": "python",
   "nbconvert_exporter": "python",
   "pygments_lexer": "ipython3",
   "version": "3.10.9"
  }
 },
 "nbformat": 4,
 "nbformat_minor": 5
}
